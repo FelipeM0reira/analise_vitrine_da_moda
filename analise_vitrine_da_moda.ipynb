{
  "nbformat": 4,
  "nbformat_minor": 0,
  "metadata": {
    "colab": {
      "provenance": [],
      "authorship_tag": "ABX9TyOjyoCh4trupNFSZN8BRP7X",
      "include_colab_link": true
    },
    "kernelspec": {
      "name": "python3",
      "display_name": "Python 3"
    },
    "language_info": {
      "name": "python"
    }
  },
  "cells": [
    {
      "cell_type": "markdown",
      "metadata": {
        "id": "view-in-github",
        "colab_type": "text"
      },
      "source": [
        "<a href=\"https://colab.research.google.com/github/FelipeM0reira/analise_vitrine_da_moda/blob/main/analise_vitrine_da_moda.ipynb\" target=\"_parent\"><img src=\"https://colab.research.google.com/assets/colab-badge.svg\" alt=\"Open In Colab\"/></a>"
      ]
    },
    {
      "cell_type": "code",
      "source": [
        "import pandas as pd\n",
        "import numpy as np"
      ],
      "metadata": {
        "id": "mjxr8FUvMuN2"
      },
      "execution_count": null,
      "outputs": []
    },
    {
      "cell_type": "code",
      "source": [
        "df = pd.read_csv('vendas.csv', encoding='latin-1', sep=';')"
      ],
      "metadata": {
        "id": "IlRiHCXnM07v"
      },
      "execution_count": null,
      "outputs": []
    },
    {
      "cell_type": "code",
      "source": [
        "print(df)"
      ],
      "metadata": {
        "colab": {
          "base_uri": "https://localhost:8080/"
        },
        "id": "h6sR_GiMM-QF",
        "outputId": "3ef60df8-4c15-4896-b8bc-d976500c0705"
      },
      "execution_count": null,
      "outputs": [
        {
          "output_type": "stream",
          "name": "stdout",
          "text": [
            "            Data           Marca        Produto Gênero     Preço     \\\n",
            "0     31/08/2023          Adidas  Calça legging      F   R$ 131,94    \n",
            "1     31/08/2023         DiPaula  Calça legging      F    R$ 35,90    \n",
            "2     31/08/2023         DiPaula  Calça legging      F    R$ 35,90    \n",
            "3     31/08/2023   Extra Fitness  Calça legging      F    R$ 29,90    \n",
            "4     31/08/2023   Extra Fitness  Calça legging      F    R$ 29,90    \n",
            "...          ...             ...            ...    ...          ...   \n",
            "2080  31/07/2024            Nike        Vestido      F   R$ 274,99    \n",
            "2081  31/07/2024            Nike        Vestido      F   R$ 274,99    \n",
            "2082  31/07/2024            Nike        Vestido      F   R$ 274,99    \n",
            "2083  31/07/2024  Sukira Fitness        Vestido      F    R$ 69,90    \n",
            "2084  31/07/2024  Sukira Fitness        Vestido      F    R$ 69,90    \n",
            "\n",
            "      Quantidade     Total     \n",
            "0              2   R$ 263,88   \n",
            "1              3   R$ 107,70   \n",
            "2              3   R$ 107,70   \n",
            "3              1    R$ 29,90   \n",
            "4              2    R$ 59,80   \n",
            "...          ...          ...  \n",
            "2080           2   R$ 549,98   \n",
            "2081           3   R$ 824,97   \n",
            "2082           1   R$ 274,99   \n",
            "2083           3   R$ 209,70   \n",
            "2084           1    R$ 69,90   \n",
            "\n",
            "[2085 rows x 7 columns]\n"
          ]
        }
      ]
    }
  ]
}